{
 "cells": [
  {
   "cell_type": "code",
   "execution_count": 1,
   "id": "a4a050ba-0c8f-4844-9169-265b539c00b7",
   "metadata": {},
   "outputs": [],
   "source": [
    "import numpy as np\n",
    "import pandas as pd\n",
    "import matplotlib.pyplot as plt"
   ]
  },
  {
   "cell_type": "code",
   "execution_count": 2,
   "id": "94a6ae1d-02cf-453a-9161-8e1a3d97d421",
   "metadata": {},
   "outputs": [],
   "source": [
    "x = np.array([[5,10,15,20,25,30,35,40,45,50]]).reshape(-1,1)\n",
    "y = np.array([0,0,0,0,0,1,1,1,1,1])"
   ]
  },
  {
   "cell_type": "code",
   "execution_count": 3,
   "id": "47039f90-330e-4bec-8ff6-3076898edf0a",
   "metadata": {},
   "outputs": [],
   "source": [
    "def sigmoid(z):\n",
    "    return(1/(1+np.exp(-z)))\n",
    "def fit(x,y,alp,n):\n",
    "    b = 0\n",
    "    n_sample , n_feature = x.shape\n",
    "    w = np.zeros(len(x[0]))\n",
    "    for _ in range(n):\n",
    "        a = np.dot(x,w) + b\n",
    "        z = sigmoid(a)\n",
    "        dw = np.dot((x.T),(z-y))/n_sample\n",
    "        db = np.sum(z-y)/n_sample\n",
    "        w = w - (alp*dw)\n",
    "        b = b - alp*db\n",
    "    return w,b"
   ]
  },
  {
   "cell_type": "code",
   "execution_count": 4,
   "id": "8a3f4309-82ed-4fff-bcc9-c3537677d6ae",
   "metadata": {},
   "outputs": [
    {
     "data": {
      "text/plain": [
       "(array([0.21871251]), -5.733422858898362)"
      ]
     },
     "execution_count": 4,
     "metadata": {},
     "output_type": "execute_result"
    }
   ],
   "source": [
    "w,b = fit(x,y,0.01,10000)\n",
    "w , b"
   ]
  },
  {
   "cell_type": "code",
   "execution_count": 5,
   "id": "fc3353b3-1fec-46b1-9f13-9d9c4a5df5f1",
   "metadata": {},
   "outputs": [],
   "source": [
    "def pred(x,w,b):\n",
    "    pred = sigmoid(np.dot(x,w))\n",
    "    if pred>0.5:\n",
    "        return print(\"You are having diabetes\",(pred,1))\n",
    "    else:\n",
    "        return print(\"You are not having diabetes\",(pred,0))"
   ]
  },
  {
   "cell_type": "code",
   "execution_count": 6,
   "id": "54a75fc4-23ad-40d6-a948-ce25e00b4369",
   "metadata": {},
   "outputs": [
    {
     "name": "stdout",
     "output_type": "stream",
     "text": [
      "You are having diabetes (array([0.99999403]), 1)\n",
      "None\n"
     ]
    }
   ],
   "source": [
    "print(pred(55,w,b))"
   ]
  },
  {
   "cell_type": "code",
   "execution_count": 7,
   "id": "d45e3fca-f640-41c8-80c8-92342af22bcc",
   "metadata": {},
   "outputs": [
    {
     "data": {
      "image/png": "[encoded data removed]",
      "text/plain": [
       "<Figure size 432x288 with 1 Axes>"
      ]
     },
     "metadata": {
      "needs_background": "light"
     },
     "output_type": "display_data"
    }
   ],
   "source": [
    "plt.plot(x, y, 'o')\n",
    "  \n",
    "plt.show()"
   ]
  },
  {
   "cell_type": "code",
   "execution_count": null,
   "id": "0ec59e77-2771-4be5-bd0d-234096484b43",
   "metadata": {},
   "outputs": [],
   "source": []
  },
  {
   "cell_type": "code",
   "execution_count": null,
   "id": "6ed25143-a9d3-4fe1-9098-c037bd4dbc52",
   "metadata": {},
   "outputs": [],
   "source": []
  }
 ],
 "metadata": {
  "kernelspec": {
   "display_name": "Python 3 (ipykernel)",
   "language": "python",
   "name": "python3"
  },
  "language_info": {
   "codemirror_mode": {
    "name": "ipython",
    "version": 3
   },
   "file_extension": ".py",
   "mimetype": "text/x-python",
   "name": "python",
   "nbconvert_exporter": "python",
   "pygments_lexer": "ipython3",
   "version": "3.9.7"
  }
 },
 "nbformat": 4,
 "nbformat_minor": 5
}

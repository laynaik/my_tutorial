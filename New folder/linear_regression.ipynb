{
 "cells": [
  {
   "cell_type": "code",
   "execution_count": 3,
   "id": "a55446bc",
   "metadata": {},
   "outputs": [],
   "source": [
    "import pandas as pd \n",
    "df=pd.read_csv(\"prac1.csv\")\n",
    "x=df['x']\n",
    "y=df['y']"
   ]
  },
  {
   "cell_type": "code",
   "execution_count": null,
   "id": "2bfef657",
   "metadata": {},
   "outputs": [],
   "source": [
    "df"
   ]
  },
  {
   "cell_type": "code",
   "execution_count": null,
   "id": "33d47669",
   "metadata": {},
   "outputs": [],
   "source": [
    "df.describe()"
   ]
  },
  {
   "cell_type": "code",
   "execution_count": null,
   "id": "bcca7466",
   "metadata": {},
   "outputs": [],
   "source": [
    "l=len(x)"
   ]
  },
  {
   "cell_type": "code",
   "execution_count": null,
   "id": "6091566a",
   "metadata": {},
   "outputs": [],
   "source": [
    "l"
   ]
  },
  {
   "cell_type": "code",
   "execution_count": null,
   "id": "320073d0",
   "metadata": {},
   "outputs": [],
   "source": [
    "def linear_regression(x,y):\n",
    "\n",
    "    x_mean=sum(x)/l\n",
    "    y_mean=sum(y)/l\n",
    "    x_xbar=[]\n",
    "    y_ybar=[]\n",
    "    multply=[]\n",
    "    den=0\n",
    "    sigxn=0\n",
    "    sigyn=0\n",
    "    for i in range(0,l):\n",
    "        x_xbar.append(x[i]-x_mean)\n",
    "        y_ybar.append(y[i]-y_mean)\n",
    "        multply.append(x_xbar[i]*y_ybar[i])\n",
    "        den=den+(x_xbar[i]**2)\n",
    "        sigxn=sigxn+(x_xbar[i]**2)\n",
    "        sigyn=sigyn+(x_xbar[i]**2)\n",
    "    xnum=sum(multply)\n",
    "    b1=xnum/den\n",
    "    b1x=b1*x_mean\n",
    "    b0=y_mean-b1x\n",
    "    print(\"b0 is \",b0)\n",
    "    print(\"b1 is \",b1)\n",
    "    sigmax=sigxn**(0.5)\n",
    "    sigmay=sigyn**(0.5)\n",
    "    r2denom=sigmax*sigmay\n",
    "    r=xnum/r2denom\n",
    "    r2=r**2\n",
    "    print(\"r2 is \",r2)\n",
    "    z=int(input(\"enter no of claims \"))\n",
    "    pred=b1*z+b0\n",
    "    print(pred)\n",
    "    return b1"
   ]
  },
  {
   "cell_type": "code",
   "execution_count": null,
   "id": "b31671fa",
   "metadata": {},
   "outputs": [],
   "source": [
    "def lp(x,y):\n",
    "    l=63\n",
    "    x_mean=sum(x)/l\n",
    "    y_mean=sum(y)/l\n",
    "    x_xbar=[]\n",
    "    y_ybar=[]\n",
    "    multply=[]\n",
    "    den=0\n",
    "    sigxn=0\n",
    "    sigyn=0\n",
    "    for i in range(0,l):\n",
    "        x_xbar.append(x[i]-x_mean)\n",
    "        y_ybar.append(y[i]-y_mean)\n",
    "        multply.append(x_xbar[i]*y_ybar[i])\n",
    "        den=den+(x_xbar[i]**2)\n",
    "        sigxn=sigxn+(x_xbar[i]**2)\n",
    "        sigyn=sigyn+(x_xbar[i]**2)\n",
    "    xnum=sum(multply)\n",
    "    b1=xnum/den\n",
    "    b1x=b1*x_mean\n",
    "    b0=y_mean-b1x\n",
    "    return b0"
   ]
  },
  {
   "cell_type": "code",
   "execution_count": null,
   "id": "9a8b8dbf",
   "metadata": {},
   "outputs": [],
   "source": [
    "linear_regression(x,y)\n"
   ]
  },
  {
   "cell_type": "code",
   "execution_count": null,
   "id": "2e6ff3ff",
   "metadata": {},
   "outputs": [],
   "source": [
    "b1=linear_regression(x,y)"
   ]
  },
  {
   "cell_type": "code",
   "execution_count": null,
   "id": "e86158b5",
   "metadata": {},
   "outputs": [],
   "source": [
    "b1"
   ]
  },
  {
   "cell_type": "code",
   "execution_count": null,
   "id": "3e24f843",
   "metadata": {},
   "outputs": [],
   "source": [
    "b0=lp(x,y)"
   ]
  },
  {
   "cell_type": "code",
   "execution_count": null,
   "id": "5aa964dc",
   "metadata": {},
   "outputs": [],
   "source": [
    "b0"
   ]
  },
  {
   "cell_type": "code",
   "execution_count": null,
   "id": "0cf4f857",
   "metadata": {},
   "outputs": [],
   "source": [
    "import matplotlib.pyplot as plt"
   ]
  },
  {
   "cell_type": "code",
   "execution_count": null,
   "id": "437d3f4b",
   "metadata": {},
   "outputs": [],
   "source": [
    "%matplotlib inline\n",
    "plt.scatter(df.x,df.y,color='magenta')\n",
    "plt.xlabel=('number of claims')\n",
    "plt.ylabel=('total payment for all claim in thousand swedish knor')\n",
    "plt.plot(x,b1*x+b0)"
   ]
  },
  {
   "cell_type": "code",
   "execution_count": null,
   "id": "8385da8a",
   "metadata": {},
   "outputs": [],
   "source": [
    "#cosine similarity\n",
    "from numpy import dot\n",
    "from numpy.linalg import norm\n",
    "cosine = dot(x,y)/(norm(x)*norm(y))\n",
    "print(cosine)"
   ]
  },
  {
   "cell_type": "code",
   "execution_count": 2,
   "id": "99835216",
   "metadata": {},
   "outputs": [],
   "source": [
    "import matplotlib.pyplot as plt"
   ]
  },
  {
   "cell_type": "code",
   "execution_count": 4,
   "id": "1407c23a",
   "metadata": {},
   "outputs": [],
   "source": [
    "b1=-0.013228128015439053\n",
    "b0=37.28175833601373"
   ]
  },
  {
   "cell_type": "code",
   "execution_count": 5,
   "id": "a537619d",
   "metadata": {},
   "outputs": [],
   "source": [
    "yb=b1*x"
   ]
  },
  {
   "cell_type": "code",
   "execution_count": 6,
   "id": "a5a49908",
   "metadata": {},
   "outputs": [],
   "source": [
    "yc=yb+b0"
   ]
  },
  {
   "cell_type": "code",
   "execution_count": 8,
   "id": "4446ac4c",
   "metadata": {},
   "outputs": [
    {
     "data": {
      "text/plain": [
       "[<matplotlib.lines.Line2D at 0x2d61b786220>]"
      ]
     },
     "execution_count": 8,
     "metadata": {},
     "output_type": "execute_result"
    },
    {
     "data": {
      "image/png": "[encoded data removed]",
      "text/plain": [
       "<Figure size 432x288 with 1 Axes>"
      ]
     },
     "metadata": {
      "needs_background": "light"
     },
     "output_type": "display_data"
    }
   ],
   "source": [
    "plt.scatter(x,y)\n",
    "plt.plot(x,yc)"
   ]
  },
  {
   "cell_type": "code",
   "execution_count": null,
   "id": "87c07d64",
   "metadata": {},
   "outputs": [],
   "source": []
  }
 ],
 "metadata": {
  "kernelspec": {
   "display_name": "Python 3 (ipykernel)",
   "language": "python",
   "name": "python3"
  },
  "language_info": {
   "codemirror_mode": {
    "name": "ipython",
    "version": 3
   },
   "file_extension": ".py",
   "mimetype": "text/x-python",
   "name": "python",
   "nbconvert_exporter": "python",
   "pygments_lexer": "ipython3",
   "version": "3.9.7"
  }
 },
 "nbformat": 4,
 "nbformat_minor": 5
}

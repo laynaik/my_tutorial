{
 "cells": [
  {
   "cell_type": "code",
   "execution_count": 19,
   "id": "6a648a9f-423f-400b-86fe-a0b1e0b96997",
   "metadata": {},
   "outputs": [],
   "source": [
    "import numpy as np\n",
    "import pandas as pd\n",
    "import seaborn as sns"
   ]
  },
  {
   "cell_type": "code",
   "execution_count": 3,
   "id": "8dd63687-5f9d-4cb9-826c-eee084617298",
   "metadata": {},
   "outputs": [
    {
     "data": {
      "text/html": [
       "<div>\n",
       "<style scoped>\n",
       "    .dataframe tbody tr th:only-of-type {\n",
       "        vertical-align: middle;\n",
       "    }\n",
       "\n",
       "    .dataframe tbody tr th {\n",
       "        vertical-align: top;\n",
       "    }\n",
       "\n",
       "    .dataframe thead th {\n",
       "        text-align: right;\n",
       "    }\n",
       "</style>\n",
       "<table border=\"1\" class=\"dataframe\">\n",
       "  <thead>\n",
       "    <tr style=\"text-align: right;\">\n",
       "      <th></th>\n",
       "      <th>Pregnancies</th>\n",
       "      <th>Glucose</th>\n",
       "      <th>BloodPressure</th>\n",
       "      <th>SkinThickness</th>\n",
       "      <th>Insulin</th>\n",
       "      <th>BMI</th>\n",
       "      <th>DiabetesPedigreeFunction</th>\n",
       "      <th>Age</th>\n",
       "      <th>Outcome</th>\n",
       "    </tr>\n",
       "  </thead>\n",
       "  <tbody>\n",
       "    <tr>\n",
       "      <th>0</th>\n",
       "      <td>6</td>\n",
       "      <td>148</td>\n",
       "      <td>72</td>\n",
       "      <td>35</td>\n",
       "      <td>0</td>\n",
       "      <td>33.6</td>\n",
       "      <td>0.627</td>\n",
       "      <td>50</td>\n",
       "      <td>1</td>\n",
       "    </tr>\n",
       "    <tr>\n",
       "      <th>1</th>\n",
       "      <td>1</td>\n",
       "      <td>85</td>\n",
       "      <td>66</td>\n",
       "      <td>29</td>\n",
       "      <td>0</td>\n",
       "      <td>26.6</td>\n",
       "      <td>0.351</td>\n",
       "      <td>31</td>\n",
       "      <td>0</td>\n",
       "    </tr>\n",
       "    <tr>\n",
       "      <th>2</th>\n",
       "      <td>8</td>\n",
       "      <td>183</td>\n",
       "      <td>64</td>\n",
       "      <td>0</td>\n",
       "      <td>0</td>\n",
       "      <td>23.3</td>\n",
       "      <td>0.672</td>\n",
       "      <td>32</td>\n",
       "      <td>1</td>\n",
       "    </tr>\n",
       "    <tr>\n",
       "      <th>3</th>\n",
       "      <td>1</td>\n",
       "      <td>89</td>\n",
       "      <td>66</td>\n",
       "      <td>23</td>\n",
       "      <td>94</td>\n",
       "      <td>28.1</td>\n",
       "      <td>0.167</td>\n",
       "      <td>21</td>\n",
       "      <td>0</td>\n",
       "    </tr>\n",
       "    <tr>\n",
       "      <th>4</th>\n",
       "      <td>0</td>\n",
       "      <td>137</td>\n",
       "      <td>40</td>\n",
       "      <td>35</td>\n",
       "      <td>168</td>\n",
       "      <td>43.1</td>\n",
       "      <td>2.288</td>\n",
       "      <td>33</td>\n",
       "      <td>1</td>\n",
       "    </tr>\n",
       "  </tbody>\n",
       "</table>\n",
       "</div>"
      ],
      "text/plain": [
       "   Pregnancies  Glucose  BloodPressure  SkinThickness  Insulin   BMI  \\\n",
       "0            6      148             72             35        0  33.6   \n",
       "1            1       85             66             29        0  26.6   \n",
       "2            8      183             64              0        0  23.3   \n",
       "3            1       89             66             23       94  28.1   \n",
       "4            0      137             40             35      168  43.1   \n",
       "\n",
       "   DiabetesPedigreeFunction  Age  Outcome  \n",
       "0                     0.627   50        1  \n",
       "1                     0.351   31        0  \n",
       "2                     0.672   32        1  \n",
       "3                     0.167   21        0  \n",
       "4                     2.288   33        1  "
      ]
     },
     "execution_count": 3,
     "metadata": {},
     "output_type": "execute_result"
    }
   ],
   "source": [
    "df = pd.read_csv('diabetes.csv')\n",
    "df.head()"
   ]
  },
  {
   "cell_type": "code",
   "execution_count": 4,
   "id": "745085a3-aa58-4c3f-9101-799d6386526e",
   "metadata": {},
   "outputs": [],
   "source": [
    "x = df['Glucose']\n",
    "y = df['Outcome']\n",
    "x = np.array(x).reshape(-1,1)\n",
    "y = np.array(y)"
   ]
  },
  {
   "cell_type": "code",
   "execution_count": 5,
   "id": "86bf684d-50ab-40db-a31b-bd4a37e8bbc0",
   "metadata": {},
   "outputs": [],
   "source": [
    "def sigmoid(z):\n",
    "    z = 1/(1+(np.exp(-(z))))\n",
    "    return z     \n",
    "def log_reg(x,y,alp,n):\n",
    "    b = 0\n",
    "    w = np.zeros(len(x[0]))\n",
    "    m , p = x.shape\n",
    "    for _ in range(n):\n",
    "        y_hat = np.dot(x,w) + b\n",
    "        y_pred = sigmoid(y_hat)\n",
    "        dw = np.dot((x.T),(y_pred-y))/m\n",
    "        db = np.sum(y_pred-y)/m\n",
    "        w = w - (alp*dw)\n",
    "        b = b - (alp*db)\n",
    "    return w , b"
   ]
  },
  {
   "cell_type": "code",
   "execution_count": 13,
   "id": "e8a22eb6-8ac2-4aac-a978-1f14acc0733a",
   "metadata": {},
   "outputs": [],
   "source": [
    "w,b = log_reg(x , y , 0.01 , 100000 )"
   ]
  },
  {
   "cell_type": "code",
   "execution_count": 14,
   "id": "4315c0fa-65e9-4047-929b-a36f7ae40a7e",
   "metadata": {},
   "outputs": [],
   "source": [
    "def pred(x , w , b):\n",
    "    prediction = sigmoid(np.dot(x,w) + b)\n",
    "    if prediction > 0.5:\n",
    "        return print(\"You are having diabetes\",(pred,1))\n",
    "    else:\n",
    "        return print(\"You are not having diabetes\",(pred,0))"
   ]
  },
  {
   "cell_type": "code",
   "execution_count": 15,
   "id": "b840f262-fc89-4fec-91d6-f255f36fe97a",
   "metadata": {},
   "outputs": [
    {
     "name": "stdout",
     "output_type": "stream",
     "text": [
      "You are having diabetes (<function pred at 0x7fe184257f70>, 1)\n",
      "None\n"
     ]
    }
   ],
   "source": [
    "print(pred(125 , w , b))"
   ]
  },
  {
   "cell_type": "code",
   "execution_count": 21,
   "id": "d1831234-3190-48f5-9664-28263c88cd12",
   "metadata": {},
   "outputs": [
    {
     "data": {
      "text/plain": [
       "<AxesSubplot:>"
      ]
     },
     "execution_count": 21,
     "metadata": {},
     "output_type": "execute_result"
    },
    {
     "data": {
      "image/png": "[encoded data removed]",
      "text/plain": [
       "<Figure size 432x288 with 1 Axes>"
      ]
     },
     "metadata": {
      "needs_background": "light"
     },
     "output_type": "display_data"
    }
   ],
   "source": [
    "sns.regplot(x=x, y=y, data=df, logistic=True, ci=None)\n"
   ]
  },
  {
   "cell_type": "code",
   "execution_count": null,
   "id": "7c4a08c1-c882-48ff-81be-d220a6011252",
   "metadata": {},
   "outputs": [],
   "source": []
  }
 ],
 "metadata": {
  "kernelspec": {
   "display_name": "Python 3 (ipykernel)",
   "language": "python",
   "name": "python3"
  },
  "language_info": {
   "codemirror_mode": {
    "name": "ipython",
    "version": 3
   },
   "file_extension": ".py",
   "mimetype": "text/x-python",
   "name": "python",
   "nbconvert_exporter": "python",
   "pygments_lexer": "ipython3",
   "version": "3.9.7"
  }
 },
 "nbformat": 4,
 "nbformat_minor": 5
}

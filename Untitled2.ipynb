{
 "cells": [
  {
   "cell_type": "code",
   "execution_count": 1,
   "id": "307448e8",
   "metadata": {},
   "outputs": [
    {
     "data": {
      "text/plain": [
       "1"
      ]
     },
     "execution_count": 1,
     "metadata": {},
     "output_type": "execute_result"
    }
   ],
   "source": [
    "3%2"
   ]
  },
  {
   "cell_type": "code",
   "execution_count": 2,
   "id": "f9eb7734",
   "metadata": {},
   "outputs": [
    {
     "data": {
      "text/plain": [
       "1"
      ]
     },
     "execution_count": 2,
     "metadata": {},
     "output_type": "execute_result"
    }
   ],
   "source": [
    "41%40"
   ]
  },
  {
   "cell_type": "code",
   "execution_count": null,
   "id": "aa791b93",
   "metadata": {},
   "outputs": [],
   "source": [
    " def mod(x,y):\n",
    "        c=x%y\n",
    "        return c\n",
    "x=int(input(\"enter num 1\"))\n",
    "y=int(input(\"enter num 2 \"))\n",
    "c=mod(x,y)\n",
    "print(c)\n",
    "        "
   ]
  },
  {
   "cell_type": "code",
   "execution_count": 9,
   "id": "6832a3c6",
   "metadata": {},
   "outputs": [],
   "source": [
    "my_list=[(\"bhide\",200),(\"shivika\",0),(\"kalu\",15),(\"deepu\",500)]\n"
   ]
  },
  {
   "cell_type": "code",
   "execution_count": 7,
   "id": "1785317f",
   "metadata": {},
   "outputs": [],
   "source": [
    "def employee(my_list):\n",
    "    c=[]\n",
    "    for name,hours in my_list:\n",
    "        c.append(hours)\n",
    "        d=max(c)\n",
    "        \n",
    "    for i,j in my_list:\n",
    "        if (j==d):\n",
    "            return i\n",
    "        else:\n",
    "            pass\n",
    "    return "
   ]
  },
  {
   "cell_type": "code",
   "execution_count": 10,
   "id": "508b00a5",
   "metadata": {},
   "outputs": [
    {
     "name": "stdout",
     "output_type": "stream",
     "text": [
      "deepu\n"
     ]
    }
   ],
   "source": [
    "d=employee(my_list)\n",
    "print(d)"
   ]
  },
  {
   "cell_type": "code",
   "execution_count": null,
   "id": "4ca5bf08",
   "metadata": {},
   "outputs": [],
   "source": []
  }
 ],
 "metadata": {
  "kernelspec": {
   "display_name": "Python 3 (ipykernel)",
   "language": "python",
   "name": "python3"
  },
  "language_info": {
   "codemirror_mode": {
    "name": "ipython",
    "version": 3
   },
   "file_extension": ".py",
   "mimetype": "text/x-python",
   "name": "python",
   "nbconvert_exporter": "python",
   "pygments_lexer": "ipython3",
   "version": "3.9.7"
  }
 },
 "nbformat": 4,
 "nbformat_minor": 5
}

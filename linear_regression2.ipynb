{
 "cells": [
  {
   "cell_type": "code",
   "execution_count": 67,
   "id": "ae7520a9",
   "metadata": {},
   "outputs": [],
   "source": [
    "import pandas as pd \n",
    "df=pd.read_csv(\"insurance.csv\")\n",
    "x=df['x']\n",
    "y=df['y']\n",
    "\n",
    "def linear_regression(x,y):\n",
    "    l=63\n",
    "    x_mean=sum(x)/l\n",
    "    y_mean=sum(y)/l\n",
    "    x_xbar=[]\n",
    "    y_ybar=[]\n",
    "    multply=[]\n",
    "    den=0\n",
    "    sigxn=0\n",
    "    sigyn=0\n",
    "    for i in range(0,l):\n",
    "        x_xbar.append(x[i]-x_mean)\n",
    "        y_ybar.append(y[i]-y_mean)\n",
    "        multply.append(x_xbar[i]*y_ybar[i])\n",
    "        den=den+(x_xbar[i]**2)\n",
    "        sigxn=sigxn+(x_xbar[i]**2)\n",
    "        sigyn=sigyn+(x_xbar[i]**2)\n",
    "    xnum=sum(multply)\n",
    "    b1=xnum/den\n",
    "    b1x=b1*x_mean\n",
    "    b0=y_mean-b1x\n",
    "    print(\"b0 is \",b0)\n",
    "    print(\"b1 is \",b1)\n",
    "    sigmax=sigxn**(0.5)\n",
    "    sigmay=sigyn**(0.5)\n",
    "    r2denom=sigmax*sigmay\n",
    "    r=xnum/r2denom\n",
    "    r2=r**2\n",
    "    print(\"r2 is \",r2)\n",
    "    z=int(input(\"enter no of claims \"))\n",
    "    pred=b1*z+b0\n",
    "    print(pred)\n",
    "   \n",
    "\n",
    "    \n",
    "    \n",
    "    \n"
   ]
  },
  {
   "cell_type": "code",
   "execution_count": null,
   "id": "88c62327",
   "metadata": {},
   "outputs": [
    {
     "name": "stdout",
     "output_type": "stream",
     "text": [
      "b0 is  19.99448575911481\n",
      "b1 is  3.4138235600663664\n",
      "r2 is  11.6541912992642\n"
     ]
    }
   ],
   "source": [
    "linear_regression(x,y)"
   ]
  },
  {
   "cell_type": "code",
   "execution_count": null,
   "id": "29699c8c",
   "metadata": {},
   "outputs": [],
   "source": []
  }
 ],
 "metadata": {
  "kernelspec": {
   "display_name": "Python 3 (ipykernel)",
   "language": "python",
   "name": "python3"
  },
  "language_info": {
   "codemirror_mode": {
    "name": "ipython",
    "version": 3
   },
   "file_extension": ".py",
   "mimetype": "text/x-python",
   "name": "python",
   "nbconvert_exporter": "python",
   "pygments_lexer": "ipython3",
   "version": "3.9.7"
  }
 },
 "nbformat": 4,
 "nbformat_minor": 5
}
